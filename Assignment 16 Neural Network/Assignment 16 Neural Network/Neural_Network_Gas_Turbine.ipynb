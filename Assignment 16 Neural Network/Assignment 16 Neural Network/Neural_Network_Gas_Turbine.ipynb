{
 "cells": [
  {
   "cell_type": "code",
   "execution_count": 1,
   "id": "95296cc6",
   "metadata": {},
   "outputs": [],
   "source": [
    "# Importing Libraries\n",
    "import pandas as pd\n",
    "import numpy as np\n",
    "import matplotlib.pyplot as plt\n",
    "import seaborn as sns"
   ]
  },
  {
   "cell_type": "code",
   "execution_count": 2,
   "id": "cda98ce9",
   "metadata": {
    "scrolled": true
   },
   "outputs": [
    {
     "data": {
      "text/html": [
       "<div>\n",
       "<style scoped>\n",
       "    .dataframe tbody tr th:only-of-type {\n",
       "        vertical-align: middle;\n",
       "    }\n",
       "\n",
       "    .dataframe tbody tr th {\n",
       "        vertical-align: top;\n",
       "    }\n",
       "\n",
       "    .dataframe thead th {\n",
       "        text-align: right;\n",
       "    }\n",
       "</style>\n",
       "<table border=\"1\" class=\"dataframe\">\n",
       "  <thead>\n",
       "    <tr style=\"text-align: right;\">\n",
       "      <th></th>\n",
       "      <th>AT</th>\n",
       "      <th>AP</th>\n",
       "      <th>AH</th>\n",
       "      <th>AFDP</th>\n",
       "      <th>GTEP</th>\n",
       "      <th>TIT</th>\n",
       "      <th>TAT</th>\n",
       "      <th>TEY</th>\n",
       "      <th>CDP</th>\n",
       "      <th>CO</th>\n",
       "      <th>NOX</th>\n",
       "    </tr>\n",
       "  </thead>\n",
       "  <tbody>\n",
       "    <tr>\n",
       "      <th>0</th>\n",
       "      <td>6.8594</td>\n",
       "      <td>1007.9</td>\n",
       "      <td>96.799</td>\n",
       "      <td>3.5000</td>\n",
       "      <td>19.663</td>\n",
       "      <td>1059.2</td>\n",
       "      <td>550.00</td>\n",
       "      <td>114.70</td>\n",
       "      <td>10.605</td>\n",
       "      <td>3.1547</td>\n",
       "      <td>82.722</td>\n",
       "    </tr>\n",
       "    <tr>\n",
       "      <th>1</th>\n",
       "      <td>6.7850</td>\n",
       "      <td>1008.4</td>\n",
       "      <td>97.118</td>\n",
       "      <td>3.4998</td>\n",
       "      <td>19.728</td>\n",
       "      <td>1059.3</td>\n",
       "      <td>550.00</td>\n",
       "      <td>114.72</td>\n",
       "      <td>10.598</td>\n",
       "      <td>3.2363</td>\n",
       "      <td>82.776</td>\n",
       "    </tr>\n",
       "    <tr>\n",
       "      <th>2</th>\n",
       "      <td>6.8977</td>\n",
       "      <td>1008.8</td>\n",
       "      <td>95.939</td>\n",
       "      <td>3.4824</td>\n",
       "      <td>19.779</td>\n",
       "      <td>1059.4</td>\n",
       "      <td>549.87</td>\n",
       "      <td>114.71</td>\n",
       "      <td>10.601</td>\n",
       "      <td>3.2012</td>\n",
       "      <td>82.468</td>\n",
       "    </tr>\n",
       "    <tr>\n",
       "      <th>3</th>\n",
       "      <td>7.0569</td>\n",
       "      <td>1009.2</td>\n",
       "      <td>95.249</td>\n",
       "      <td>3.4805</td>\n",
       "      <td>19.792</td>\n",
       "      <td>1059.6</td>\n",
       "      <td>549.99</td>\n",
       "      <td>114.72</td>\n",
       "      <td>10.606</td>\n",
       "      <td>3.1923</td>\n",
       "      <td>82.670</td>\n",
       "    </tr>\n",
       "    <tr>\n",
       "      <th>4</th>\n",
       "      <td>7.3978</td>\n",
       "      <td>1009.7</td>\n",
       "      <td>95.150</td>\n",
       "      <td>3.4976</td>\n",
       "      <td>19.765</td>\n",
       "      <td>1059.7</td>\n",
       "      <td>549.98</td>\n",
       "      <td>114.72</td>\n",
       "      <td>10.612</td>\n",
       "      <td>3.2484</td>\n",
       "      <td>82.311</td>\n",
       "    </tr>\n",
       "  </tbody>\n",
       "</table>\n",
       "</div>"
      ],
      "text/plain": [
       "       AT      AP      AH    AFDP    GTEP     TIT     TAT     TEY     CDP  \\\n",
       "0  6.8594  1007.9  96.799  3.5000  19.663  1059.2  550.00  114.70  10.605   \n",
       "1  6.7850  1008.4  97.118  3.4998  19.728  1059.3  550.00  114.72  10.598   \n",
       "2  6.8977  1008.8  95.939  3.4824  19.779  1059.4  549.87  114.71  10.601   \n",
       "3  7.0569  1009.2  95.249  3.4805  19.792  1059.6  549.99  114.72  10.606   \n",
       "4  7.3978  1009.7  95.150  3.4976  19.765  1059.7  549.98  114.72  10.612   \n",
       "\n",
       "       CO     NOX  \n",
       "0  3.1547  82.722  \n",
       "1  3.2363  82.776  \n",
       "2  3.2012  82.468  \n",
       "3  3.1923  82.670  \n",
       "4  3.2484  82.311  "
      ]
     },
     "execution_count": 2,
     "metadata": {},
     "output_type": "execute_result"
    }
   ],
   "source": [
    "# Importing Dataset\n",
    "df=pd.read_csv('gas_turbines.csv')\n",
    "df.head()"
   ]
  },
  {
   "cell_type": "markdown",
   "id": "bd9b74dc",
   "metadata": {},
   "source": [
    "## EDA"
   ]
  },
  {
   "cell_type": "code",
   "execution_count": 3,
   "id": "b295a044",
   "metadata": {},
   "outputs": [
    {
     "name": "stdout",
     "output_type": "stream",
     "text": [
      "<class 'pandas.core.frame.DataFrame'>\n",
      "RangeIndex: 15039 entries, 0 to 15038\n",
      "Data columns (total 11 columns):\n",
      " #   Column  Non-Null Count  Dtype  \n",
      "---  ------  --------------  -----  \n",
      " 0   AT      15039 non-null  float64\n",
      " 1   AP      15039 non-null  float64\n",
      " 2   AH      15039 non-null  float64\n",
      " 3   AFDP    15039 non-null  float64\n",
      " 4   GTEP    15039 non-null  float64\n",
      " 5   TIT     15039 non-null  float64\n",
      " 6   TAT     15039 non-null  float64\n",
      " 7   TEY     15039 non-null  float64\n",
      " 8   CDP     15039 non-null  float64\n",
      " 9   CO      15039 non-null  float64\n",
      " 10  NOX     15039 non-null  float64\n",
      "dtypes: float64(11)\n",
      "memory usage: 1.3 MB\n"
     ]
    }
   ],
   "source": [
    "df.info()"
   ]
  },
  {
   "cell_type": "code",
   "execution_count": 4,
   "id": "b747bc67",
   "metadata": {},
   "outputs": [
    {
     "data": {
      "text/plain": [
       "AT      0\n",
       "AP      0\n",
       "AH      0\n",
       "AFDP    0\n",
       "GTEP    0\n",
       "TIT     0\n",
       "TAT     0\n",
       "TEY     0\n",
       "CDP     0\n",
       "CO      0\n",
       "NOX     0\n",
       "dtype: int64"
      ]
     },
     "execution_count": 4,
     "metadata": {},
     "output_type": "execute_result"
    }
   ],
   "source": [
    "df.isnull().sum()"
   ]
  },
  {
   "cell_type": "code",
   "execution_count": 5,
   "id": "b5ec9370",
   "metadata": {},
   "outputs": [
    {
     "data": {
      "text/plain": [
       "0"
      ]
     },
     "execution_count": 5,
     "metadata": {},
     "output_type": "execute_result"
    }
   ],
   "source": [
    "df.duplicated().sum()"
   ]
  },
  {
   "cell_type": "markdown",
   "id": "c9275526",
   "metadata": {},
   "source": [
    "## Visualization"
   ]
  },
  {
   "cell_type": "code",
   "execution_count": 6,
   "id": "428d7d06",
   "metadata": {},
   "outputs": [
    {
     "data": {
      "image/png": "[encoded data removed]",
      "text/plain": [
       "<Figure size 1080x576 with 2 Axes>"
      ]
     },
     "metadata": {
      "needs_background": "light"
     },
     "output_type": "display_data"
    }
   ],
   "source": [
    "plt.figure(figsize=(15,8))\n",
    "sns.heatmap(df.corr(),annot=True)\n",
    "plt.show()"
   ]
  },
  {
   "cell_type": "code",
   "execution_count": 10,
   "id": "53ada15f",
   "metadata": {},
   "outputs": [
    {
     "name": "stderr",
     "output_type": "stream",
     "text": [
      "C:\\ProgramData\\Anaconda3\\lib\\site-packages\\seaborn\\_decorators.py:36: FutureWarning: Pass the following variable as a keyword arg: x. From version 0.12, the only valid positional argument will be `data`, and passing other arguments without an explicit keyword will result in an error or misinterpretation.\n",
      "  warnings.warn(\n"
     ]
    },
    {
     "data": {
      "text/plain": [
       "<AxesSubplot:xlabel='TEY', ylabel='count'>"
      ]
     },
     "execution_count": 10,
     "metadata": {},
     "output_type": "execute_result"
    },
    {
     "data": {
      "image/png": "[encoded data removed]",
      "text/plain": [
       "<Figure size 1080x576 with 1 Axes>"
      ]
     },
     "metadata": {
      "needs_background": "light"
     },
     "output_type": "display_data"
    }
   ],
   "source": [
    "plt.figure(figsize=(15,8))\n",
    "sns.countplot(df['TEY'])"
   ]
  },
  {
   "cell_type": "code",
   "execution_count": 46,
   "id": "529be2a6",
   "metadata": {},
   "outputs": [
    {
     "data": {
      "text/plain": [
       "<AxesSubplot:xlabel='TEY', ylabel='Count'>"
      ]
     },
     "execution_count": 46,
     "metadata": {},
     "output_type": "execute_result"
    },
    {
     "data": {
      "image/png": "[encoded data removed]",
      "text/plain": [
       "<Figure size 1080x576 with 1 Axes>"
      ]
     },
     "metadata": {
      "needs_background": "light"
     },
     "output_type": "display_data"
    }
   ],
   "source": [
    "plt.figure(figsize=(15,8))\n",
    "sns.histplot(df['TEY'],kde=True)"
   ]
  },
  {
   "cell_type": "code",
   "execution_count": 47,
   "id": "8ec1b275",
   "metadata": {
    "scrolled": true
   },
   "outputs": [
    {
     "data": {
      "text/plain": [
       "<Figure size 1080x576 with 0 Axes>"
      ]
     },
     "metadata": {},
     "output_type": "display_data"
    },
    {
     "data": {
      "image/png": "[encoded data removed]",
      "text/plain": [
       "<Figure size 432x288 with 1 Axes>"
      ]
     },
     "metadata": {
      "needs_background": "light"
     },
     "output_type": "display_data"
    }
   ],
   "source": [
    "plt.figure(figsize=(15,8))\n",
    "df.plot(kind='box')\n",
    "plt.show()"
   ]
  },
  {
   "cell_type": "code",
   "execution_count": 23,
   "id": "c65267c6",
   "metadata": {},
   "outputs": [
    {
     "data": {
      "text/plain": [
       "array([[-1.4397781 , -0.82664395,  1.28143632, ..., -1.35733078,\n",
       "         0.53201195,  1.3878449 ],\n",
       "       [-1.44960109, -0.74864748,  1.30456402, ..., -1.36367619,\n",
       "         0.56873344,  1.39300237],\n",
       "       [-1.43472138, -0.68625031,  1.21908576, ..., -1.36095673,\n",
       "         0.5529378 ,  1.36358566],\n",
       "       ...,\n",
       "       [-1.38626659, -1.07623263,  1.47697056, ..., -1.46792219,\n",
       "         2.69592467,  2.17006209],\n",
       "       [-1.42042259, -0.99823616,  1.44159024, ..., -1.42259784,\n",
       "         1.9246834 ,  2.391165  ],\n",
       "       [-1.43073409, -0.93583899,  1.33465179, ..., -1.37727349,\n",
       "         1.35415028,  2.32153907]])"
      ]
     },
     "execution_count": 23,
     "metadata": {},
     "output_type": "execute_result"
    }
   ],
   "source": [
    "#Encoding\n",
    "from sklearn.preprocessing import StandardScaler\n",
    "sc=StandardScaler()\n",
    "sc.fit_transform(x)"
   ]
  },
  {
   "cell_type": "markdown",
   "id": "951fc1a5",
   "metadata": {},
   "source": [
    "# Model Building"
   ]
  },
  {
   "cell_type": "code",
   "execution_count": 20,
   "id": "dfb8049d",
   "metadata": {},
   "outputs": [],
   "source": [
    "x=pd.concat([df.iloc[:,0:7],df.iloc[:,8:]],axis=1).values\n",
    "y=df['TEY'].values"
   ]
  },
  {
   "cell_type": "code",
   "execution_count": 21,
   "id": "a2f6e451",
   "metadata": {},
   "outputs": [],
   "source": [
    "from sklearn.model_selection import train_test_split\n",
    "xtrain,xtest,ytrain,ytest=train_test_split(x,y,test_size=0.25,random_state=42)"
   ]
  },
  {
   "cell_type": "code",
   "execution_count": 25,
   "id": "ec405f65",
   "metadata": {},
   "outputs": [],
   "source": [
    "from tensorflow.keras.models import Sequential\n",
    "from tensorflow.keras.layers import Dense\n",
    "from tensorflow.keras.callbacks import EarlyStopping"
   ]
  },
  {
   "cell_type": "code",
   "execution_count": 26,
   "id": "fd3c7f7c",
   "metadata": {},
   "outputs": [],
   "source": [
    "ann=Sequential()\n",
    "ann.add(Dense(units=6,activation='relu'))\n",
    "ann.add(Dense(units=6,activation='relu'))\n",
    "ann.add(Dense(units=1))"
   ]
  },
  {
   "cell_type": "code",
   "execution_count": 27,
   "id": "7ca65752",
   "metadata": {},
   "outputs": [],
   "source": [
    "ann.compile(optimizer='adam',loss='mean_squared_error')"
   ]
  },
  {
   "cell_type": "code",
   "execution_count": 29,
   "id": "7d143015",
   "metadata": {},
   "outputs": [
    {
     "name": "stdout",
     "output_type": "stream",
     "text": [
      "Epoch 1/100\n",
      "353/353 [==============================] - 8s 9ms/step - loss: 193.2097 - val_loss: 184.6658\n",
      "Epoch 2/100\n",
      "353/353 [==============================] - 2s 6ms/step - loss: 168.7525 - val_loss: 162.5951\n",
      "Epoch 3/100\n",
      "353/353 [==============================] - 2s 5ms/step - loss: 145.6816 - val_loss: 131.2615\n",
      "Epoch 4/100\n",
      "353/353 [==============================] - 2s 6ms/step - loss: 116.8580 - val_loss: 101.3663\n",
      "Epoch 5/100\n",
      "353/353 [==============================] - 2s 4ms/step - loss: 86.1466 - val_loss: 71.8272\n",
      "Epoch 6/100\n",
      "353/353 [==============================] - 2s 5ms/step - loss: 56.6771 - val_loss: 44.1633\n",
      "Epoch 7/100\n",
      "353/353 [==============================] - 2s 5ms/step - loss: 35.6102 - val_loss: 29.0950\n",
      "Epoch 8/100\n",
      "353/353 [==============================] - 1s 4ms/step - loss: 25.3037 - val_loss: 24.1448\n",
      "Epoch 9/100\n",
      "353/353 [==============================] - 1s 4ms/step - loss: 21.0825 - val_loss: 20.1635\n",
      "Epoch 10/100\n",
      "353/353 [==============================] - 1s 4ms/step - loss: 19.0200 - val_loss: 19.9238\n",
      "Epoch 11/100\n",
      "353/353 [==============================] - 1s 4ms/step - loss: 17.3527 - val_loss: 16.2392\n",
      "Epoch 12/100\n",
      "353/353 [==============================] - 1s 4ms/step - loss: 16.1045 - val_loss: 14.8265\n",
      "Epoch 13/100\n",
      "353/353 [==============================] - 2s 5ms/step - loss: 15.0550 - val_loss: 14.2353\n",
      "Epoch 14/100\n",
      "353/353 [==============================] - 2s 5ms/step - loss: 13.6551 - val_loss: 13.0471\n",
      "Epoch 15/100\n",
      "353/353 [==============================] - 2s 5ms/step - loss: 12.8487 - val_loss: 11.8926\n",
      "Epoch 16/100\n",
      "353/353 [==============================] - 2s 6ms/step - loss: 11.9046 - val_loss: 11.2364\n",
      "Epoch 17/100\n",
      "353/353 [==============================] - 2s 4ms/step - loss: 11.2197 - val_loss: 10.8110\n",
      "Epoch 18/100\n",
      "353/353 [==============================] - 1s 4ms/step - loss: 10.6625 - val_loss: 9.8591\n",
      "Epoch 19/100\n",
      "353/353 [==============================] - 1s 4ms/step - loss: 10.2157 - val_loss: 9.4222\n",
      "Epoch 20/100\n",
      "353/353 [==============================] - 1s 4ms/step - loss: 9.5694 - val_loss: 8.8578\n",
      "Epoch 21/100\n",
      "353/353 [==============================] - 1s 4ms/step - loss: 9.0948 - val_loss: 8.4574\n",
      "Epoch 22/100\n",
      "353/353 [==============================] - 1s 4ms/step - loss: 8.6585 - val_loss: 8.0547\n",
      "Epoch 23/100\n",
      "353/353 [==============================] - 2s 5ms/step - loss: 8.3525 - val_loss: 7.8106\n",
      "Epoch 24/100\n",
      "353/353 [==============================] - 2s 5ms/step - loss: 8.0090 - val_loss: 8.7287\n",
      "Epoch 25/100\n",
      "353/353 [==============================] - 2s 5ms/step - loss: 7.7565 - val_loss: 7.1475\n",
      "Epoch 26/100\n",
      "353/353 [==============================] - 2s 5ms/step - loss: 7.4832 - val_loss: 6.9033\n",
      "Epoch 27/100\n",
      "353/353 [==============================] - 1s 4ms/step - loss: 7.3267 - val_loss: 7.2212\n",
      "Epoch 28/100\n",
      "353/353 [==============================] - 1s 4ms/step - loss: 7.0331 - val_loss: 6.5122\n",
      "Epoch 29/100\n",
      "353/353 [==============================] - 1s 4ms/step - loss: 6.8404 - val_loss: 6.3203\n",
      "Epoch 30/100\n",
      "353/353 [==============================] - 1s 4ms/step - loss: 6.5709 - val_loss: 6.2715\n",
      "Epoch 31/100\n",
      "353/353 [==============================] - 1s 4ms/step - loss: 6.3738 - val_loss: 5.9745\n",
      "Epoch 32/100\n",
      "353/353 [==============================] - 1s 4ms/step - loss: 6.2930 - val_loss: 5.8125\n",
      "Epoch 33/100\n",
      "353/353 [==============================] - 2s 4ms/step - loss: 6.1276 - val_loss: 5.7142\n",
      "Epoch 34/100\n",
      "353/353 [==============================] - 2s 5ms/step - loss: 5.9761 - val_loss: 5.9076\n",
      "Epoch 35/100\n",
      "353/353 [==============================] - 2s 5ms/step - loss: 5.8652 - val_loss: 5.3969\n",
      "Epoch 36/100\n",
      "353/353 [==============================] - 2s 5ms/step - loss: 5.5827 - val_loss: 5.5285\n",
      "Epoch 37/100\n",
      "353/353 [==============================] - 2s 5ms/step - loss: 5.5340 - val_loss: 5.4576\n",
      "Epoch 38/100\n",
      "353/353 [==============================] - 2s 5ms/step - loss: 5.4556 - val_loss: 5.0664\n",
      "Epoch 39/100\n",
      "353/353 [==============================] - 1s 4ms/step - loss: 5.2920 - val_loss: 5.2326\n",
      "Epoch 40/100\n",
      "353/353 [==============================] - 1s 4ms/step - loss: 5.1219 - val_loss: 5.1219\n",
      "Epoch 41/100\n",
      "353/353 [==============================] - 1s 4ms/step - loss: 5.0900 - val_loss: 4.6764\n",
      "Epoch 42/100\n",
      "353/353 [==============================] - 1s 4ms/step - loss: 4.9162 - val_loss: 4.8712\n",
      "Epoch 43/100\n",
      "353/353 [==============================] - 1s 4ms/step - loss: 4.9419 - val_loss: 4.5940\n",
      "Epoch 44/100\n",
      "353/353 [==============================] - 2s 4ms/step - loss: 4.7125 - val_loss: 6.5602\n",
      "Epoch 45/100\n",
      "353/353 [==============================] - 2s 4ms/step - loss: 4.6103 - val_loss: 5.1588\n",
      "Epoch 46/100\n",
      "353/353 [==============================] - 2s 5ms/step - loss: 4.6040 - val_loss: 4.9630\n",
      "Epoch 47/100\n",
      "353/353 [==============================] - 2s 4ms/step - loss: 4.4412 - val_loss: 4.0840\n",
      "Epoch 48/100\n",
      "353/353 [==============================] - 1s 4ms/step - loss: 4.2938 - val_loss: 4.1703\n",
      "Epoch 49/100\n",
      "353/353 [==============================] - 1s 4ms/step - loss: 4.2736 - val_loss: 3.9441\n",
      "Epoch 50/100\n",
      "353/353 [==============================] - 1s 4ms/step - loss: 4.0805 - val_loss: 3.9430\n",
      "Epoch 51/100\n",
      "353/353 [==============================] - 1s 4ms/step - loss: 4.0362 - val_loss: 3.9566\n",
      "Epoch 52/100\n",
      "353/353 [==============================] - 1s 4ms/step - loss: 3.9348 - val_loss: 3.6917\n",
      "Epoch 53/100\n",
      "353/353 [==============================] - 1s 4ms/step - loss: 3.8722 - val_loss: 4.4511\n",
      "Epoch 54/100\n",
      "353/353 [==============================] - 1s 4ms/step - loss: 3.7910 - val_loss: 3.5265\n",
      "Epoch 55/100\n",
      "353/353 [==============================] - 2s 4ms/step - loss: 3.7419 - val_loss: 3.5969\n",
      "Epoch 56/100\n",
      "353/353 [==============================] - 2s 5ms/step - loss: 3.6162 - val_loss: 3.5597\n",
      "Epoch 57/100\n",
      "353/353 [==============================] - 2s 5ms/step - loss: 3.6873 - val_loss: 3.9694\n",
      "Epoch 58/100\n",
      "353/353 [==============================] - 2s 5ms/step - loss: 3.5602 - val_loss: 3.2200\n",
      "Epoch 59/100\n",
      "353/353 [==============================] - 1s 4ms/step - loss: 3.4232 - val_loss: 3.2055\n",
      "Epoch 60/100\n",
      "353/353 [==============================] - 1s 4ms/step - loss: 3.3777 - val_loss: 3.7689\n",
      "Epoch 61/100\n",
      "353/353 [==============================] - 1s 4ms/step - loss: 3.3225 - val_loss: 3.4654\n",
      "Epoch 62/100\n",
      "353/353 [==============================] - 1s 4ms/step - loss: 3.1685 - val_loss: 3.1010\n",
      "Epoch 63/100\n",
      "353/353 [==============================] - 1s 4ms/step - loss: 3.1796 - val_loss: 2.9825\n",
      "Epoch 64/100\n",
      "353/353 [==============================] - 1s 4ms/step - loss: 3.0944 - val_loss: 3.1522\n",
      "Epoch 65/100\n",
      "353/353 [==============================] - 1s 4ms/step - loss: 3.0614 - val_loss: 3.5814\n",
      "Epoch 66/100\n",
      "353/353 [==============================] - 1s 4ms/step - loss: 3.0033 - val_loss: 2.8440\n",
      "Epoch 67/100\n",
      "353/353 [==============================] - 2s 5ms/step - loss: 2.9047 - val_loss: 2.6935\n",
      "Epoch 68/100\n",
      "353/353 [==============================] - 2s 4ms/step - loss: 2.8683 - val_loss: 3.3782\n",
      "Epoch 69/100\n",
      "353/353 [==============================] - 2s 5ms/step - loss: 2.8611 - val_loss: 3.0216\n",
      "Epoch 70/100\n",
      "353/353 [==============================] - 1s 4ms/step - loss: 2.8205 - val_loss: 2.5799\n",
      "Epoch 71/100\n",
      "353/353 [==============================] - 1s 4ms/step - loss: 2.6939 - val_loss: 2.5612\n",
      "Epoch 72/100\n",
      "353/353 [==============================] - 1s 4ms/step - loss: 2.5829 - val_loss: 2.7080\n",
      "Epoch 73/100\n",
      "353/353 [==============================] - 1s 4ms/step - loss: 2.6659 - val_loss: 2.7782\n",
      "Epoch 74/100\n",
      "353/353 [==============================] - 1s 4ms/step - loss: 2.5980 - val_loss: 2.3526\n",
      "Epoch 75/100\n",
      "353/353 [==============================] - 1s 4ms/step - loss: 2.4567 - val_loss: 2.3348\n",
      "Epoch 76/100\n",
      "353/353 [==============================] - 1s 4ms/step - loss: 2.4849 - val_loss: 2.2707\n",
      "Epoch 77/100\n",
      "353/353 [==============================] - 2s 4ms/step - loss: 2.3844 - val_loss: 2.3616\n",
      "Epoch 78/100\n",
      "353/353 [==============================] - 2s 5ms/step - loss: 2.4089 - val_loss: 2.2501\n",
      "Epoch 79/100\n",
      "353/353 [==============================] - 2s 5ms/step - loss: 2.3218 - val_loss: 2.7217\n",
      "Epoch 80/100\n",
      "353/353 [==============================] - 2s 5ms/step - loss: 2.2773 - val_loss: 2.5323\n"
     ]
    },
    {
     "name": "stdout",
     "output_type": "stream",
     "text": [
      "Epoch 81/100\n",
      "353/353 [==============================] - 2s 4ms/step - loss: 2.3234 - val_loss: 2.4449\n",
      "Epoch 82/100\n",
      "353/353 [==============================] - 1s 4ms/step - loss: 2.2596 - val_loss: 2.0637\n",
      "Epoch 83/100\n",
      "353/353 [==============================] - 1s 4ms/step - loss: 2.1599 - val_loss: 2.3677\n",
      "Epoch 84/100\n",
      "353/353 [==============================] - 1s 4ms/step - loss: 2.1841 - val_loss: 1.9664\n",
      "Epoch 85/100\n",
      "353/353 [==============================] - 1s 4ms/step - loss: 2.0901 - val_loss: 2.0362\n",
      "Epoch 86/100\n",
      "353/353 [==============================] - 1s 4ms/step - loss: 2.0433 - val_loss: 1.9610\n",
      "Epoch 87/100\n",
      "353/353 [==============================] - 1s 4ms/step - loss: 2.1065 - val_loss: 1.9814\n",
      "Epoch 88/100\n",
      "353/353 [==============================] - 1s 4ms/step - loss: 2.0240 - val_loss: 1.9321\n",
      "Epoch 89/100\n",
      "353/353 [==============================] - 2s 4ms/step - loss: 1.9393 - val_loss: 1.8162\n",
      "Epoch 90/100\n",
      "353/353 [==============================] - 2s 4ms/step - loss: 1.9431 - val_loss: 1.7760\n",
      "Epoch 91/100\n",
      "353/353 [==============================] - 2s 5ms/step - loss: 1.8590 - val_loss: 2.0384\n",
      "Epoch 92/100\n",
      "353/353 [==============================] - 2s 4ms/step - loss: 1.8983 - val_loss: 2.9357\n",
      "Epoch 93/100\n",
      "353/353 [==============================] - 1s 4ms/step - loss: 1.9478 - val_loss: 1.8912\n",
      "Epoch 94/100\n",
      "353/353 [==============================] - 1s 4ms/step - loss: 1.8436 - val_loss: 2.0162\n"
     ]
    },
    {
     "data": {
      "text/plain": [
       "<keras.callbacks.History at 0x20d7ffa2ca0>"
      ]
     },
     "execution_count": 29,
     "metadata": {},
     "output_type": "execute_result"
    }
   ],
   "source": [
    "ann.fit(x=xtrain,y=ytrain,epochs=100,batch_size=32,validation_data=(xtest,ytest),callbacks=EarlyStopping(monitor='val_loss',patience=4))"
   ]
  },
  {
   "cell_type": "code",
   "execution_count": 30,
   "id": "2f1c25f2",
   "metadata": {},
   "outputs": [
    {
     "data": {
      "text/html": [
       "<div>\n",
       "<style scoped>\n",
       "    .dataframe tbody tr th:only-of-type {\n",
       "        vertical-align: middle;\n",
       "    }\n",
       "\n",
       "    .dataframe tbody tr th {\n",
       "        vertical-align: top;\n",
       "    }\n",
       "\n",
       "    .dataframe thead th {\n",
       "        text-align: right;\n",
       "    }\n",
       "</style>\n",
       "<table border=\"1\" class=\"dataframe\">\n",
       "  <thead>\n",
       "    <tr style=\"text-align: right;\">\n",
       "      <th></th>\n",
       "      <th>loss</th>\n",
       "      <th>val_loss</th>\n",
       "    </tr>\n",
       "  </thead>\n",
       "  <tbody>\n",
       "    <tr>\n",
       "      <th>0</th>\n",
       "      <td>193.209747</td>\n",
       "      <td>184.665848</td>\n",
       "    </tr>\n",
       "    <tr>\n",
       "      <th>1</th>\n",
       "      <td>168.752533</td>\n",
       "      <td>162.595062</td>\n",
       "    </tr>\n",
       "    <tr>\n",
       "      <th>2</th>\n",
       "      <td>145.681625</td>\n",
       "      <td>131.261475</td>\n",
       "    </tr>\n",
       "    <tr>\n",
       "      <th>3</th>\n",
       "      <td>116.857979</td>\n",
       "      <td>101.366318</td>\n",
       "    </tr>\n",
       "    <tr>\n",
       "      <th>4</th>\n",
       "      <td>86.146606</td>\n",
       "      <td>71.827232</td>\n",
       "    </tr>\n",
       "    <tr>\n",
       "      <th>...</th>\n",
       "      <td>...</td>\n",
       "      <td>...</td>\n",
       "    </tr>\n",
       "    <tr>\n",
       "      <th>89</th>\n",
       "      <td>1.943085</td>\n",
       "      <td>1.776008</td>\n",
       "    </tr>\n",
       "    <tr>\n",
       "      <th>90</th>\n",
       "      <td>1.859009</td>\n",
       "      <td>2.038448</td>\n",
       "    </tr>\n",
       "    <tr>\n",
       "      <th>91</th>\n",
       "      <td>1.898323</td>\n",
       "      <td>2.935694</td>\n",
       "    </tr>\n",
       "    <tr>\n",
       "      <th>92</th>\n",
       "      <td>1.947842</td>\n",
       "      <td>1.891155</td>\n",
       "    </tr>\n",
       "    <tr>\n",
       "      <th>93</th>\n",
       "      <td>1.843576</td>\n",
       "      <td>2.016211</td>\n",
       "    </tr>\n",
       "  </tbody>\n",
       "</table>\n",
       "<p>94 rows × 2 columns</p>\n",
       "</div>"
      ],
      "text/plain": [
       "          loss    val_loss\n",
       "0   193.209747  184.665848\n",
       "1   168.752533  162.595062\n",
       "2   145.681625  131.261475\n",
       "3   116.857979  101.366318\n",
       "4    86.146606   71.827232\n",
       "..         ...         ...\n",
       "89    1.943085    1.776008\n",
       "90    1.859009    2.038448\n",
       "91    1.898323    2.935694\n",
       "92    1.947842    1.891155\n",
       "93    1.843576    2.016211\n",
       "\n",
       "[94 rows x 2 columns]"
      ]
     },
     "execution_count": 30,
     "metadata": {},
     "output_type": "execute_result"
    }
   ],
   "source": [
    "pd.DataFrame(ann.history.history)"
   ]
  },
  {
   "cell_type": "code",
   "execution_count": 31,
   "id": "2a13bdc2",
   "metadata": {},
   "outputs": [
    {
     "name": "stdout",
     "output_type": "stream",
     "text": [
      "353/353 [==============================] - 5s 3ms/step - loss: 2.0132\n"
     ]
    },
    {
     "data": {
      "text/plain": [
       "2.0132486820220947"
      ]
     },
     "execution_count": 31,
     "metadata": {},
     "output_type": "execute_result"
    }
   ],
   "source": [
    "ann.evaluate(xtrain,ytrain)"
   ]
  },
  {
   "cell_type": "code",
   "execution_count": 32,
   "id": "91440b74",
   "metadata": {},
   "outputs": [
    {
     "name": "stdout",
     "output_type": "stream",
     "text": [
      "118/118 [==============================] - 0s 2ms/step - loss: 2.0162\n"
     ]
    },
    {
     "data": {
      "text/plain": [
       "2.0162105560302734"
      ]
     },
     "execution_count": 32,
     "metadata": {},
     "output_type": "execute_result"
    }
   ],
   "source": [
    "ann.evaluate(xtest,ytest)"
   ]
  },
  {
   "cell_type": "code",
   "execution_count": 39,
   "id": "5a18c5e7",
   "metadata": {},
   "outputs": [
    {
     "name": "stdout",
     "output_type": "stream",
     "text": [
      "118/118 [==============================] - 0s 2ms/step\n"
     ]
    },
    {
     "data": {
      "text/html": [
       "<div>\n",
       "<style scoped>\n",
       "    .dataframe tbody tr th:only-of-type {\n",
       "        vertical-align: middle;\n",
       "    }\n",
       "\n",
       "    .dataframe tbody tr th {\n",
       "        vertical-align: top;\n",
       "    }\n",
       "\n",
       "    .dataframe thead th {\n",
       "        text-align: right;\n",
       "    }\n",
       "</style>\n",
       "<table border=\"1\" class=\"dataframe\">\n",
       "  <thead>\n",
       "    <tr style=\"text-align: right;\">\n",
       "      <th></th>\n",
       "      <th>Real values</th>\n",
       "      <th>predictions</th>\n",
       "    </tr>\n",
       "  </thead>\n",
       "  <tbody>\n",
       "    <tr>\n",
       "      <th>0</th>\n",
       "      <td>134.46</td>\n",
       "      <td>134.655991</td>\n",
       "    </tr>\n",
       "    <tr>\n",
       "      <th>1</th>\n",
       "      <td>111.88</td>\n",
       "      <td>113.876312</td>\n",
       "    </tr>\n",
       "    <tr>\n",
       "      <th>2</th>\n",
       "      <td>133.72</td>\n",
       "      <td>133.814102</td>\n",
       "    </tr>\n",
       "    <tr>\n",
       "      <th>3</th>\n",
       "      <td>133.79</td>\n",
       "      <td>134.179733</td>\n",
       "    </tr>\n",
       "    <tr>\n",
       "      <th>4</th>\n",
       "      <td>110.77</td>\n",
       "      <td>112.848854</td>\n",
       "    </tr>\n",
       "    <tr>\n",
       "      <th>...</th>\n",
       "      <td>...</td>\n",
       "      <td>...</td>\n",
       "    </tr>\n",
       "    <tr>\n",
       "      <th>3755</th>\n",
       "      <td>133.67</td>\n",
       "      <td>133.120224</td>\n",
       "    </tr>\n",
       "    <tr>\n",
       "      <th>3756</th>\n",
       "      <td>112.87</td>\n",
       "      <td>115.153908</td>\n",
       "    </tr>\n",
       "    <tr>\n",
       "      <th>3757</th>\n",
       "      <td>131.94</td>\n",
       "      <td>132.739136</td>\n",
       "    </tr>\n",
       "    <tr>\n",
       "      <th>3758</th>\n",
       "      <td>148.88</td>\n",
       "      <td>149.972351</td>\n",
       "    </tr>\n",
       "    <tr>\n",
       "      <th>3759</th>\n",
       "      <td>152.50</td>\n",
       "      <td>153.480270</td>\n",
       "    </tr>\n",
       "  </tbody>\n",
       "</table>\n",
       "<p>3760 rows × 2 columns</p>\n",
       "</div>"
      ],
      "text/plain": [
       "      Real values  predictions\n",
       "0          134.46   134.655991\n",
       "1          111.88   113.876312\n",
       "2          133.72   133.814102\n",
       "3          133.79   134.179733\n",
       "4          110.77   112.848854\n",
       "...           ...          ...\n",
       "3755       133.67   133.120224\n",
       "3756       112.87   115.153908\n",
       "3757       131.94   132.739136\n",
       "3758       148.88   149.972351\n",
       "3759       152.50   153.480270\n",
       "\n",
       "[3760 rows x 2 columns]"
      ]
     },
     "execution_count": 39,
     "metadata": {},
     "output_type": "execute_result"
    }
   ],
   "source": [
    "predictions=ann.predict(xtest)\n",
    "predictions_df=pd.DataFrame(np.ravel(predictions),columns=['predictions'])\n",
    "comparison_df=pd.concat([pd.DataFrame(ytest,columns=['Real values']),predictions_df],axis=1)\n",
    "comparison_df"
   ]
  },
  {
   "cell_type": "code",
   "execution_count": 40,
   "id": "a50823d7",
   "metadata": {},
   "outputs": [
    {
     "name": "stdout",
     "output_type": "stream",
     "text": [
      "(3760,)\n",
      "(3760, 1)\n"
     ]
    }
   ],
   "source": [
    "print(ytest.shape)\n",
    "print(predictions.shape)"
   ]
  },
  {
   "cell_type": "code",
   "execution_count": 42,
   "id": "a9ed12d8",
   "metadata": {},
   "outputs": [
    {
     "name": "stdout",
     "output_type": "stream",
     "text": [
      "MAE: 1.0581407765327615\n",
      "MSE: 2.016210777321912\n",
      "RMSE: 1.419933370733258\n"
     ]
    }
   ],
   "source": [
    "from sklearn import metrics\n",
    "print('MAE:',metrics.mean_absolute_error(ytest,predictions))\n",
    "print('MSE:',metrics.mean_squared_error(ytest,predictions))\n",
    "print('RMSE:',np.sqrt(metrics.mean_squared_error(ytest,predictions)))"
   ]
  },
  {
   "cell_type": "code",
   "execution_count": 43,
   "id": "e6a45d03",
   "metadata": {},
   "outputs": [
    {
     "data": {
      "text/plain": [
       "0.9933652528316733"
      ]
     },
     "execution_count": 43,
     "metadata": {},
     "output_type": "execute_result"
    }
   ],
   "source": [
    "metrics.explained_variance_score(ytest,predictions)"
   ]
  },
  {
   "cell_type": "code",
   "execution_count": null,
   "id": "463dd5bb",
   "metadata": {},
   "outputs": [],
   "source": []
  }
 ],
 "metadata": {
  "kernelspec": {
   "display_name": "Python 3 (ipykernel)",
   "language": "python",
   "name": "python3"
  },
  "language_info": {
   "codemirror_mode": {
    "name": "ipython",
    "version": 3
   },
   "file_extension": ".py",
   "mimetype": "text/x-python",
   "name": "python",
   "nbconvert_exporter": "python",
   "pygments_lexer": "ipython3",
   "version": "3.9.12"
  }
 },
 "nbformat": 4,
 "nbformat_minor": 5
}
