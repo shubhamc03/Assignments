{
 "cells": [
  {
   "cell_type": "code",
   "execution_count": 100,
   "id": "1918e4ee",
   "metadata": {},
   "outputs": [],
   "source": [
    "# Import Labraries\n",
    "import pandas as pd\n",
    "import numpy as np\n",
    "import matplotlib.pyplot as plt\n",
    "import seaborn as sns\n",
    "from sklearn.neighbors import KNeighborsClassifier\n",
    "from sklearn.model_selection import train_test_split\n",
    "from sklearn.metrics import classification_report\n",
    "import warnings\n",
    "warnings.filterwarnings('ignore')\n"
   ]
  },
  {
   "cell_type": "code",
   "execution_count": 101,
   "id": "6deab306",
   "metadata": {
    "scrolled": true
   },
   "outputs": [
    {
     "data": {
      "text/html": [
       "<div>\n",
       "<style scoped>\n",
       "    .dataframe tbody tr th:only-of-type {\n",
       "        vertical-align: middle;\n",
       "    }\n",
       "\n",
       "    .dataframe tbody tr th {\n",
       "        vertical-align: top;\n",
       "    }\n",
       "\n",
       "    .dataframe thead th {\n",
       "        text-align: right;\n",
       "    }\n",
       "</style>\n",
       "<table border=\"1\" class=\"dataframe\">\n",
       "  <thead>\n",
       "    <tr style=\"text-align: right;\">\n",
       "      <th></th>\n",
       "      <th>RI</th>\n",
       "      <th>Na</th>\n",
       "      <th>Mg</th>\n",
       "      <th>Al</th>\n",
       "      <th>Si</th>\n",
       "      <th>K</th>\n",
       "      <th>Ca</th>\n",
       "      <th>Ba</th>\n",
       "      <th>Fe</th>\n",
       "      <th>Type</th>\n",
       "    </tr>\n",
       "  </thead>\n",
       "  <tbody>\n",
       "    <tr>\n",
       "      <th>0</th>\n",
       "      <td>1.52101</td>\n",
       "      <td>13.64</td>\n",
       "      <td>4.49</td>\n",
       "      <td>1.10</td>\n",
       "      <td>71.78</td>\n",
       "      <td>0.06</td>\n",
       "      <td>8.75</td>\n",
       "      <td>0.0</td>\n",
       "      <td>0.0</td>\n",
       "      <td>1</td>\n",
       "    </tr>\n",
       "    <tr>\n",
       "      <th>1</th>\n",
       "      <td>1.51761</td>\n",
       "      <td>13.89</td>\n",
       "      <td>3.60</td>\n",
       "      <td>1.36</td>\n",
       "      <td>72.73</td>\n",
       "      <td>0.48</td>\n",
       "      <td>7.83</td>\n",
       "      <td>0.0</td>\n",
       "      <td>0.0</td>\n",
       "      <td>1</td>\n",
       "    </tr>\n",
       "    <tr>\n",
       "      <th>2</th>\n",
       "      <td>1.51618</td>\n",
       "      <td>13.53</td>\n",
       "      <td>3.55</td>\n",
       "      <td>1.54</td>\n",
       "      <td>72.99</td>\n",
       "      <td>0.39</td>\n",
       "      <td>7.78</td>\n",
       "      <td>0.0</td>\n",
       "      <td>0.0</td>\n",
       "      <td>1</td>\n",
       "    </tr>\n",
       "    <tr>\n",
       "      <th>3</th>\n",
       "      <td>1.51766</td>\n",
       "      <td>13.21</td>\n",
       "      <td>3.69</td>\n",
       "      <td>1.29</td>\n",
       "      <td>72.61</td>\n",
       "      <td>0.57</td>\n",
       "      <td>8.22</td>\n",
       "      <td>0.0</td>\n",
       "      <td>0.0</td>\n",
       "      <td>1</td>\n",
       "    </tr>\n",
       "    <tr>\n",
       "      <th>4</th>\n",
       "      <td>1.51742</td>\n",
       "      <td>13.27</td>\n",
       "      <td>3.62</td>\n",
       "      <td>1.24</td>\n",
       "      <td>73.08</td>\n",
       "      <td>0.55</td>\n",
       "      <td>8.07</td>\n",
       "      <td>0.0</td>\n",
       "      <td>0.0</td>\n",
       "      <td>1</td>\n",
       "    </tr>\n",
       "  </tbody>\n",
       "</table>\n",
       "</div>"
      ],
      "text/plain": [
       "        RI     Na    Mg    Al     Si     K    Ca   Ba   Fe  Type\n",
       "0  1.52101  13.64  4.49  1.10  71.78  0.06  8.75  0.0  0.0     1\n",
       "1  1.51761  13.89  3.60  1.36  72.73  0.48  7.83  0.0  0.0     1\n",
       "2  1.51618  13.53  3.55  1.54  72.99  0.39  7.78  0.0  0.0     1\n",
       "3  1.51766  13.21  3.69  1.29  72.61  0.57  8.22  0.0  0.0     1\n",
       "4  1.51742  13.27  3.62  1.24  73.08  0.55  8.07  0.0  0.0     1"
      ]
     },
     "execution_count": 101,
     "metadata": {},
     "output_type": "execute_result"
    }
   ],
   "source": [
    "# Importing dataset\n",
    "df=pd.read_csv('glass.csv')\n",
    "df.head()"
   ]
  },
  {
   "cell_type": "markdown",
   "id": "f6b94ca3",
   "metadata": {},
   "source": [
    "## EDA"
   ]
  },
  {
   "cell_type": "code",
   "execution_count": 102,
   "id": "05201887",
   "metadata": {},
   "outputs": [
    {
     "name": "stdout",
     "output_type": "stream",
     "text": [
      "<class 'pandas.core.frame.DataFrame'>\n",
      "RangeIndex: 214 entries, 0 to 213\n",
      "Data columns (total 10 columns):\n",
      " #   Column  Non-Null Count  Dtype  \n",
      "---  ------  --------------  -----  \n",
      " 0   RI      214 non-null    float64\n",
      " 1   Na      214 non-null    float64\n",
      " 2   Mg      214 non-null    float64\n",
      " 3   Al      214 non-null    float64\n",
      " 4   Si      214 non-null    float64\n",
      " 5   K       214 non-null    float64\n",
      " 6   Ca      214 non-null    float64\n",
      " 7   Ba      214 non-null    float64\n",
      " 8   Fe      214 non-null    float64\n",
      " 9   Type    214 non-null    int64  \n",
      "dtypes: float64(9), int64(1)\n",
      "memory usage: 16.8 KB\n"
     ]
    }
   ],
   "source": [
    "df.info()"
   ]
  },
  {
   "cell_type": "code",
   "execution_count": 103,
   "id": "0a6e36e8",
   "metadata": {},
   "outputs": [
    {
     "data": {
      "text/plain": [
       "RI      0\n",
       "Na      0\n",
       "Mg      0\n",
       "Al      0\n",
       "Si      0\n",
       "K       0\n",
       "Ca      0\n",
       "Ba      0\n",
       "Fe      0\n",
       "Type    0\n",
       "dtype: int64"
      ]
     },
     "execution_count": 103,
     "metadata": {},
     "output_type": "execute_result"
    }
   ],
   "source": [
    "df.isnull().sum()"
   ]
  },
  {
   "cell_type": "code",
   "execution_count": 104,
   "id": "da6c5296",
   "metadata": {},
   "outputs": [
    {
     "name": "stdout",
     "output_type": "stream",
     "text": [
      "1.52152    3\n",
      "1.51590    3\n",
      "1.51645    3\n",
      "1.51754    2\n",
      "1.51841    2\n",
      "          ..\n",
      "1.51625    1\n",
      "1.51569    1\n",
      "1.51605    1\n",
      "1.51588    1\n",
      "1.51651    1\n",
      "Name: RI, Length: 178, dtype: int64\n",
      "13.02    5\n",
      "13.21    5\n",
      "13.00    5\n",
      "13.64    4\n",
      "13.33    4\n",
      "        ..\n",
      "13.34    1\n",
      "13.31    1\n",
      "14.17    1\n",
      "13.51    1\n",
      "14.23    1\n",
      "Name: Na, Length: 142, dtype: int64\n",
      "0.00    42\n",
      "3.48     8\n",
      "3.58     8\n",
      "3.54     8\n",
      "3.52     7\n",
      "        ..\n",
      "2.76     1\n",
      "3.15     1\n",
      "2.90     1\n",
      "3.83     1\n",
      "1.78     1\n",
      "Name: Mg, Length: 94, dtype: int64\n",
      "1.54    8\n",
      "1.19    6\n",
      "1.43    5\n",
      "1.29    5\n",
      "1.23    5\n",
      "       ..\n",
      "1.08    1\n",
      "1.64    1\n",
      "1.61    1\n",
      "1.07    1\n",
      "1.94    1\n",
      "Name: Al, Length: 118, dtype: int64\n",
      "72.86    4\n",
      "72.99    4\n",
      "73.10    4\n",
      "73.28    4\n",
      "73.11    4\n",
      "        ..\n",
      "73.55    1\n",
      "72.34    1\n",
      "72.26    1\n",
      "73.26    1\n",
      "73.61    1\n",
      "Name: Si, Length: 133, dtype: int64\n",
      "0.00    30\n",
      "0.57    12\n",
      "0.56    11\n",
      "0.60    11\n",
      "0.58    10\n",
      "        ..\n",
      "0.44     1\n",
      "0.07     1\n",
      "0.73     1\n",
      "0.70     1\n",
      "1.41     1\n",
      "Name: K, Length: 65, dtype: int64\n",
      "8.03    5\n",
      "8.43    5\n",
      "9.57    4\n",
      "8.79    4\n",
      "8.44    4\n",
      "       ..\n",
      "9.23    1\n",
      "8.90    1\n",
      "9.13    1\n",
      "8.09    1\n",
      "8.62    1\n",
      "Name: Ca, Length: 143, dtype: int64\n",
      "0.00    176\n",
      "0.64      2\n",
      "1.57      2\n",
      "0.09      2\n",
      "1.59      2\n",
      "0.11      2\n",
      "3.15      1\n",
      "0.81      1\n",
      "1.64      1\n",
      "1.06      1\n",
      "0.54      1\n",
      "2.88      1\n",
      "1.38      1\n",
      "1.55      1\n",
      "0.67      1\n",
      "1.71      1\n",
      "0.56      1\n",
      "0.63      1\n",
      "0.53      1\n",
      "0.66      1\n",
      "0.61      1\n",
      "0.27      1\n",
      "0.69      1\n",
      "0.40      1\n",
      "0.14      1\n",
      "0.76      1\n",
      "1.68      1\n",
      "1.63      1\n",
      "1.19      1\n",
      "0.24      1\n",
      "2.20      1\n",
      "0.15      1\n",
      "0.06      1\n",
      "1.67      1\n",
      "Name: Ba, dtype: int64\n",
      "0.00    144\n",
      "0.24      7\n",
      "0.17      7\n",
      "0.09      6\n",
      "0.10      5\n",
      "0.11      4\n",
      "0.16      3\n",
      "0.28      3\n",
      "0.12      3\n",
      "0.22      3\n",
      "0.14      3\n",
      "0.07      3\n",
      "0.19      2\n",
      "0.15      2\n",
      "0.08      2\n",
      "0.06      1\n",
      "0.21      1\n",
      "0.05      1\n",
      "0.51      1\n",
      "0.37      1\n",
      "0.35      1\n",
      "0.25      1\n",
      "0.18      1\n",
      "0.34      1\n",
      "0.29      1\n",
      "0.30      1\n",
      "0.20      1\n",
      "0.32      1\n",
      "0.26      1\n",
      "0.03      1\n",
      "0.31      1\n",
      "0.01      1\n",
      "Name: Fe, dtype: int64\n",
      "2    76\n",
      "1    70\n",
      "7    29\n",
      "3    17\n",
      "5    13\n",
      "6     9\n",
      "Name: Type, dtype: int64\n"
     ]
    }
   ],
   "source": [
    "for c in df:\n",
    "    print(df[c].value_counts())"
   ]
  },
  {
   "cell_type": "code",
   "execution_count": 105,
   "id": "e182b037",
   "metadata": {},
   "outputs": [
    {
     "data": {
      "text/plain": [
       "1"
      ]
     },
     "execution_count": 105,
     "metadata": {},
     "output_type": "execute_result"
    }
   ],
   "source": [
    " df.duplicated().sum()"
   ]
  },
  {
   "cell_type": "code",
   "execution_count": 106,
   "id": "c6c4fa88",
   "metadata": {},
   "outputs": [],
   "source": [
    "df.drop_duplicates(inplace=True)"
   ]
  },
  {
   "cell_type": "code",
   "execution_count": 107,
   "id": "ba1ecd62",
   "metadata": {},
   "outputs": [
    {
     "data": {
      "text/plain": [
       "0"
      ]
     },
     "execution_count": 107,
     "metadata": {},
     "output_type": "execute_result"
    }
   ],
   "source": [
    " df.duplicated().sum()"
   ]
  },
  {
   "cell_type": "markdown",
   "id": "dc50326b",
   "metadata": {},
   "source": [
    "## Visualization"
   ]
  },
  {
   "cell_type": "code",
   "execution_count": 108,
   "id": "5e2e8a0a",
   "metadata": {},
   "outputs": [
    {
     "data": {
      "image/png": "[encoded data removed]",
      "text/plain": [
       "<Figure size 1080x576 with 2 Axes>"
      ]
     },
     "metadata": {},
     "output_type": "display_data"
    }
   ],
   "source": [
    "# Heat map correlation\n",
    "plt.figure(figsize=(15,8))\n",
    "sns.heatmap(df.corr(),annot=True)\n",
    "plt.show()"
   ]
  },
  {
   "cell_type": "code",
   "execution_count": 109,
   "id": "4bcc9674",
   "metadata": {
    "scrolled": true
   },
   "outputs": [
    {
     "data": {
      "image/png": "[encoded data removed]",
      "text/plain": [
       "<Figure size 432x288 with 1 Axes>"
      ]
     },
     "metadata": {},
     "output_type": "display_data"
    }
   ],
   "source": [
    "# Count plot on Target column\n",
    "sns.countplot(df['Type'])\n",
    "plt.show()"
   ]
  },
  {
   "cell_type": "code",
   "execution_count": 110,
   "id": "e200bd01",
   "metadata": {},
   "outputs": [
    {
     "data": {
      "text/html": [
       "<div>\n",
       "<style scoped>\n",
       "    .dataframe tbody tr th:only-of-type {\n",
       "        vertical-align: middle;\n",
       "    }\n",
       "\n",
       "    .dataframe tbody tr th {\n",
       "        vertical-align: top;\n",
       "    }\n",
       "\n",
       "    .dataframe thead th {\n",
       "        text-align: right;\n",
       "    }\n",
       "</style>\n",
       "<table border=\"1\" class=\"dataframe\">\n",
       "  <thead>\n",
       "    <tr style=\"text-align: right;\">\n",
       "      <th></th>\n",
       "      <th>RI</th>\n",
       "      <th>Na</th>\n",
       "      <th>Mg</th>\n",
       "      <th>Al</th>\n",
       "      <th>Si</th>\n",
       "      <th>K</th>\n",
       "      <th>Ca</th>\n",
       "      <th>Ba</th>\n",
       "      <th>Fe</th>\n",
       "      <th>Type</th>\n",
       "    </tr>\n",
       "  </thead>\n",
       "  <tbody>\n",
       "    <tr>\n",
       "      <th>0</th>\n",
       "      <td>1.52101</td>\n",
       "      <td>13.64</td>\n",
       "      <td>4.49</td>\n",
       "      <td>1.10</td>\n",
       "      <td>71.78</td>\n",
       "      <td>0.06</td>\n",
       "      <td>8.75</td>\n",
       "      <td>0.0</td>\n",
       "      <td>0.0</td>\n",
       "      <td>1</td>\n",
       "    </tr>\n",
       "    <tr>\n",
       "      <th>1</th>\n",
       "      <td>1.51761</td>\n",
       "      <td>13.89</td>\n",
       "      <td>3.60</td>\n",
       "      <td>1.36</td>\n",
       "      <td>72.73</td>\n",
       "      <td>0.48</td>\n",
       "      <td>7.83</td>\n",
       "      <td>0.0</td>\n",
       "      <td>0.0</td>\n",
       "      <td>1</td>\n",
       "    </tr>\n",
       "    <tr>\n",
       "      <th>2</th>\n",
       "      <td>1.51618</td>\n",
       "      <td>13.53</td>\n",
       "      <td>3.55</td>\n",
       "      <td>1.54</td>\n",
       "      <td>72.99</td>\n",
       "      <td>0.39</td>\n",
       "      <td>7.78</td>\n",
       "      <td>0.0</td>\n",
       "      <td>0.0</td>\n",
       "      <td>1</td>\n",
       "    </tr>\n",
       "    <tr>\n",
       "      <th>3</th>\n",
       "      <td>1.51766</td>\n",
       "      <td>13.21</td>\n",
       "      <td>3.69</td>\n",
       "      <td>1.29</td>\n",
       "      <td>72.61</td>\n",
       "      <td>0.57</td>\n",
       "      <td>8.22</td>\n",
       "      <td>0.0</td>\n",
       "      <td>0.0</td>\n",
       "      <td>1</td>\n",
       "    </tr>\n",
       "    <tr>\n",
       "      <th>4</th>\n",
       "      <td>1.51742</td>\n",
       "      <td>13.27</td>\n",
       "      <td>3.62</td>\n",
       "      <td>1.24</td>\n",
       "      <td>73.08</td>\n",
       "      <td>0.55</td>\n",
       "      <td>8.07</td>\n",
       "      <td>0.0</td>\n",
       "      <td>0.0</td>\n",
       "      <td>1</td>\n",
       "    </tr>\n",
       "  </tbody>\n",
       "</table>\n",
       "</div>"
      ],
      "text/plain": [
       "        RI     Na    Mg    Al     Si     K    Ca   Ba   Fe  Type\n",
       "0  1.52101  13.64  4.49  1.10  71.78  0.06  8.75  0.0  0.0     1\n",
       "1  1.51761  13.89  3.60  1.36  72.73  0.48  7.83  0.0  0.0     1\n",
       "2  1.51618  13.53  3.55  1.54  72.99  0.39  7.78  0.0  0.0     1\n",
       "3  1.51766  13.21  3.69  1.29  72.61  0.57  8.22  0.0  0.0     1\n",
       "4  1.51742  13.27  3.62  1.24  73.08  0.55  8.07  0.0  0.0     1"
      ]
     },
     "execution_count": 110,
     "metadata": {},
     "output_type": "execute_result"
    }
   ],
   "source": [
    "df.head()"
   ]
  },
  {
   "cell_type": "code",
   "execution_count": 111,
   "id": "9af12895",
   "metadata": {},
   "outputs": [
    {
     "data": {
      "text/plain": [
       "0      1\n",
       "1      1\n",
       "2      1\n",
       "3      1\n",
       "4      1\n",
       "      ..\n",
       "209    7\n",
       "210    7\n",
       "211    7\n",
       "212    7\n",
       "213    7\n",
       "Name: Type, Length: 213, dtype: int64"
      ]
     },
     "execution_count": 111,
     "metadata": {},
     "output_type": "execute_result"
    }
   ],
   "source": [
    "# Splitting data\n",
    "x=df.iloc[:,0:9]\n",
    "y=df.iloc[:,-1]\n",
    "y"
   ]
  },
  {
   "cell_type": "code",
   "execution_count": 112,
   "id": "9605a2af",
   "metadata": {},
   "outputs": [],
   "source": [
    "xtrain,xtest,ytrain,ytest=train_test_split(x,y,test_size=0.25,random_state=1)"
   ]
  },
  {
   "cell_type": "markdown",
   "id": "a9bdb8df",
   "metadata": {},
   "source": [
    "## Model Building"
   ]
  },
  {
   "cell_type": "code",
   "execution_count": 113,
   "id": "218c7e51",
   "metadata": {},
   "outputs": [
    {
     "name": "stdout",
     "output_type": "stream",
     "text": [
      "              precision    recall  f1-score   support\n",
      "\n",
      "           1       0.63      0.86      0.73        22\n",
      "           2       0.83      0.59      0.69        17\n",
      "           3       0.00      0.00      0.00         7\n",
      "           5       0.33      1.00      0.50         1\n",
      "           6       1.00      0.50      0.67         2\n",
      "           7       0.83      1.00      0.91         5\n",
      "\n",
      "    accuracy                           0.67        54\n",
      "   macro avg       0.61      0.66      0.58        54\n",
      "weighted avg       0.64      0.67      0.63        54\n",
      "\n"
     ]
    }
   ],
   "source": [
    "knn=KNeighborsClassifier()\n",
    "knn.fit(xtrain,ytrain)\n",
    "y_pred=knn.predict(xtest)\n",
    "trainac=knn.score(xtrain,ytrain)\n",
    "testac=knn.score(xtest,ytest)\n",
    "print(classification_report(ytest,y_pred))"
   ]
  },
  {
   "cell_type": "markdown",
   "id": "5e08a342",
   "metadata": {},
   "source": [
    "## Hyperparameter Tuning"
   ]
  },
  {
   "cell_type": "code",
   "execution_count": 114,
   "id": "b407dc6c",
   "metadata": {},
   "outputs": [],
   "source": [
    "trainac=[]\n",
    "testac=[]\n",
    "\n",
    "for i in range(1,21):\n",
    "    knn=KNeighborsClassifier(n_neighbors=i)\n",
    "    knn.fit(xtrain,ytrain)\n",
    "    ypred=knn.predict(xtest)\n",
    "    \n",
    "    trainac.append(knn.score(xtrain,ytrain))\n",
    "    testac.append(knn.score(xtest,ytest))"
   ]
  },
  {
   "cell_type": "code",
   "execution_count": 115,
   "id": "2413275a",
   "metadata": {
    "scrolled": true
   },
   "outputs": [
    {
     "data": {
      "text/plain": [
       "[1.0,\n",
       " 0.8364779874213837,\n",
       " 0.8301886792452831,\n",
       " 0.7547169811320755,\n",
       " 0.7169811320754716,\n",
       " 0.7358490566037735,\n",
       " 0.7358490566037735,\n",
       " 0.6918238993710691,\n",
       " 0.6729559748427673,\n",
       " 0.6477987421383647,\n",
       " 0.6540880503144654,\n",
       " 0.660377358490566,\n",
       " 0.660377358490566,\n",
       " 0.660377358490566,\n",
       " 0.6540880503144654,\n",
       " 0.6540880503144654,\n",
       " 0.6540880503144654,\n",
       " 0.6540880503144654,\n",
       " 0.6415094339622641,\n",
       " 0.660377358490566]"
      ]
     },
     "execution_count": 115,
     "metadata": {},
     "output_type": "execute_result"
    }
   ],
   "source": [
    "trainac"
   ]
  },
  {
   "cell_type": "code",
   "execution_count": 116,
   "id": "b47ebabf",
   "metadata": {},
   "outputs": [
    {
     "data": {
      "text/plain": [
       "[0.7037037037037037,\n",
       " 0.6296296296296297,\n",
       " 0.6666666666666666,\n",
       " 0.6481481481481481,\n",
       " 0.6666666666666666,\n",
       " 0.7222222222222222,\n",
       " 0.6481481481481481,\n",
       " 0.6851851851851852,\n",
       " 0.6111111111111112,\n",
       " 0.6296296296296297,\n",
       " 0.6111111111111112,\n",
       " 0.6481481481481481,\n",
       " 0.6111111111111112,\n",
       " 0.6296296296296297,\n",
       " 0.6481481481481481,\n",
       " 0.6296296296296297,\n",
       " 0.6481481481481481,\n",
       " 0.6481481481481481,\n",
       " 0.6666666666666666,\n",
       " 0.6666666666666666]"
      ]
     },
     "execution_count": 116,
     "metadata": {},
     "output_type": "execute_result"
    }
   ],
   "source": [
    "testac"
   ]
  },
  {
   "cell_type": "code",
   "execution_count": 117,
   "id": "56a92272",
   "metadata": {},
   "outputs": [
    {
     "data": {
      "text/plain": [
       "Text(0, 0.5, 'Accuracy')"
      ]
     },
     "execution_count": 117,
     "metadata": {},
     "output_type": "execute_result"
    },
    {
     "data": {
      "image/png": "[encoded data removed]",
      "text/plain": [
       "<Figure size 432x288 with 1 Axes>"
      ]
     },
     "metadata": {},
     "output_type": "display_data"
    }
   ],
   "source": [
    "sns.set_style(style='darkgrid')\n",
    "\n",
    "plt.plot(range(1,21),trainac)\n",
    "plt.plot(range(1,21),testac)\n",
    "plt.xlabel('Number of K')\n",
    "plt.ylabel('Accuracy')\n"
   ]
  },
  {
   "cell_type": "markdown",
   "id": "c649c131",
   "metadata": {},
   "source": [
    "## Improving Model"
   ]
  },
  {
   "cell_type": "code",
   "execution_count": 118,
   "id": "9f9b90cf",
   "metadata": {},
   "outputs": [
    {
     "name": "stdout",
     "output_type": "stream",
     "text": [
      "Training Accuracy 0.6415094339622641\n",
      "Testing Accuracy 0.6666666666666666 \n",
      "              precision    recall  f1-score   support\n",
      "\n",
      "           1       0.66      0.86      0.75        22\n",
      "           2       0.69      0.65      0.67        17\n",
      "           3       0.00      0.00      0.00         7\n",
      "           5       0.33      1.00      0.50         1\n",
      "           6       0.00      0.00      0.00         2\n",
      "           7       0.83      1.00      0.91         5\n",
      "\n",
      "    accuracy                           0.67        54\n",
      "   macro avg       0.42      0.59      0.47        54\n",
      "weighted avg       0.57      0.67      0.61        54\n",
      "\n"
     ]
    }
   ],
   "source": [
    "knn=KNeighborsClassifier(n_neighbors=19)\n",
    "knn.fit(xtrain,ytrain)\n",
    "y_pred=knn.predict(xtest)\n",
    "trainac=knn.score(xtrain,ytrain)\n",
    "testac=knn.score(xtest,ytest)\n",
    "\n",
    "print(f\"Training Accuracy {trainac}\\nTesting Accuracy {testac} \")\n",
    "print(classification_report(ytest,y_pred))"
   ]
  },
  {
   "cell_type": "code",
   "execution_count": 119,
   "id": "a15b5c7a",
   "metadata": {},
   "outputs": [
    {
     "name": "stdout",
     "output_type": "stream",
     "text": [
      " accuracy = 66.66666666666666\n"
     ]
    }
   ],
   "source": [
    "from sklearn.metrics import accuracy_score\n",
    "print(' accuracy =' ,accuracy_score(y_pred, ytest)*100)"
   ]
  },
  {
   "cell_type": "code",
   "execution_count": 120,
   "id": "cc27e555",
   "metadata": {},
   "outputs": [
    {
     "data": {
      "text/plain": [
       "Text(92.68, 0.5, 'predicted score')"
      ]
     },
     "execution_count": 120,
     "metadata": {},
     "output_type": "execute_result"
    },
    {
     "data": {
      "image/png": "[encoded data removed]",
      "text/plain": [
       "<Figure size 432x288 with 1 Axes>"
      ]
     },
     "metadata": {},
     "output_type": "display_data"
    }
   ],
   "source": [
    "from sklearn.metrics import confusion_matrix\n",
    "\n",
    "mat = confusion_matrix(ytest, y_pred)\n",
    "sns.heatmap(mat, square=True, annot=True, fmt='d', cbar=False)\n",
    "\n",
    "plt.title('Confusion matrix')\n",
    "plt.xlabel('true class')\n",
    "plt.ylabel('predicted score')"
   ]
  },
  {
   "cell_type": "code",
   "execution_count": null,
   "id": "09292df6",
   "metadata": {},
   "outputs": [],
   "source": []
  }
 ],
 "metadata": {
  "kernelspec": {
   "display_name": "Python 3 (ipykernel)",
   "language": "python",
   "name": "python3"
  },
  "language_info": {
   "codemirror_mode": {
    "name": "ipython",
    "version": 3
   },
   "file_extension": ".py",
   "mimetype": "text/x-python",
   "name": "python",
   "nbconvert_exporter": "python",
   "pygments_lexer": "ipython3",
   "version": "3.9.12"
  }
 },
 "nbformat": 4,
 "nbformat_minor": 5
}
